{
 "cells": [
  {
   "cell_type": "markdown",
   "metadata": {},
   "source": [
    "# ¡Antes de que gastes! Project :\n",
    "##### La capital cubana goza de una de las tradiciones gastronómicas más grandes de todo el Caribe, no solo por su comida autóctona criolla, sino también por la mezcla resultante de toda la inmigración que ha recibido de todas partes del mundo; sin contar, obviamente, que la propia comida criolla es fruto de la relación entre las influencias aborígenes, españolas y africanas, las primeras huellas culturales que forjaron la esencia del cubano. Ya sea de Europa, Medio Oriente, Asia y la propia América, Cuba se ha retroalimentado de todos los seres humanos con potencial culinario que han pisado su tierra. Esto ha creado una de las ciudades con más variedad en cuanto a restaurantes y bares se trata.\n",
    "### INTRO\n",
    "##### En este pequeño proyecto de análisis busco comprender cómo se trabaja con todos los datos recopilados sobre estos locales, cosa que obviamente a mano sería tonto. Para eso mismo, alguien anteriormente se le ocurrió la brillante idea de crear la solución para manejar y representar de manera más visual y sencilla cualquier tipo de datos de cualquier tema de la vida, y eso es: la programación... o mejor dicho las bibliotecas para programar con datos como estos. En este caso, bibliotecas que podemos usar en nuestro querido Python, el cual es extremadamente útil para estos tipos de trabajos, y porque es el único que medianamente (si es que puedo decir eso) sé usar. Sin más, estas serían las bibliotecas principales que he usado:"
   ]
  },
  {
   "cell_type": "code",
   "execution_count": null,
   "metadata": {},
   "outputs": [],
   "source": [
    "import glob\n",
    "# El salvador en cuanto a la automatización en estos trabajos se refiere. \n",
    "# Se utiliza para encontrar todos los nombres de archivos que coincidan con un patrón específico. Es útil para trabajar con múltiples archivos en un directorio.\n",
    "import json as jn\n",
    "# Que otra biblioteca mejor para trabajar con datos de este tipo que no sea json.\n",
    "import pandas as pd\n",
    "# Es una biblioteca muy poderosa para la manipulación y análisis de datos.\n",
    "# Proporciona estructuras de datos como DataFrames.\n",
    "import csv\n",
    "# Esta biblioteca se utiliza para leer y escribir archivos CSV.\n",
    "import matplotlib.pyplot as plt\n",
    "# Es una biblioteca para crear visualizaciones estáticas, animadas e interactivas en Python.\n",
    "import plotly.express as px\n",
    "# Es una biblioteca para crear visualizaciones interactivas de manera sencilla.\n",
    "import numpy as np\n",
    "# Es una biblioteca para la computación numérica en Python.\n",
    "from collections import Counter\n",
    "# Es útil para contar la frecuencia de elementos en una lista.\n",
    "import warnings\n",
    "warnings.filterwarnings(\"ignore\")\n",
    "# Esta biblioteca se utiliza para manejar advertencias en Python. \n",
    "# En este caso, se ignora todas las advertencias.\n",
    "\n",
    "from Otros_programas.Funciones import*\n",
    "\n",
    "df = crear_data_frame() \n",
    "#df"
   ]
  },
  {
   "cell_type": "markdown",
   "metadata": {},
   "source": [
    "##### Pues estas serán nuestras principales herramientas a la hora de desenvolvernos en este estresante pero hermoso mundo de datos y datos y datos y datos y datos y dat... cof, cof... bueno, ya. Pero también nos va a servir para adquirir conocimientos esenciales para saber cómo se mueve el mundo, ya que sin los datos, la tecnología, la medicina, las ciencias, el ocio, en fin, TODO no sería lo que es actualmente y en especial este proyecto que nos permite explorar la gastronomía habanera; por lo cual aquí les traigo lo básico, lo bueno y lo malo de este submundo, y para que sepáis de entre todas estas opciones de locales que existen, cuáles de los más de 200 que se han investigado serían los más rentables, buenos y acogedores, o los más horribles, desbalanceados y caros. Esto es:\n",
    "\n",
    "## ¡Antes de que gastes!...\n",
    "### \"Restaurantes y Bares de La Habana\"."
   ]
  },
  {
   "cell_type": "markdown",
   "metadata": {},
   "source": [
    "# Lo Básico\n",
    "##### Comenzando por lo básico, creo que sería un paso importante ver, en principio, a qué nos enfrentamos: los diferentes tipos de locales que hay, afortunadamente categorizados de dos maneras: restaurantes y bares. Si me preguntan por qué no usar también la definición que tienen muchos establecimientos como \"bar-restaurante\", \"restaurante-bar\", \"bar-cafetería\", etc., la principal razón es que al cubano le da igual. Analizando, antes de hacer este proyecto, la diferencia más remarcada entre un restaurante y bar como tales es cómo se distribuye el establecimiento para aprovechar de manera correcta sus servicios. En un bar no vas a ver la misma distribución de mesas que en un restaurante, pero no estamos aquí para hablar sobre arquitectura ni interiorismo, sino sobre la oferta gastronómica de estos. En primer lugar, ¿qué cantidad de establecimientos de cada tipo hay?:"
   ]
  },
  {
   "cell_type": "code",
   "execution_count": null,
   "metadata": {},
   "outputs": [],
   "source": [
    "tipo_establecimientos = df['type_of_establishment'].value_counts().reset_index()\n",
    "tipo_establecimientos.columns = ['Tipo de Establecimiento', 'Cantidad']\n",
    "\n",
    "fig = px.pie(tipo_establecimientos, \n",
    "            values='Cantidad', \n",
    "            names='Tipo de Establecimiento', \n",
    "            title='Porcentaje de tipos de establecimientos en La Habana',\n",
    "            hole=0.1,\n",
    "            color_discrete_sequence=px.colors.sequential.Turbo)\n",
    "fig.show()"
   ]
  }
 ],
 "metadata": {
  "kernelspec": {
   "display_name": "Python 3",
   "language": "python",
   "name": "python3"
  },
  "language_info": {
   "codemirror_mode": {
    "name": "ipython",
    "version": 3
   },
   "file_extension": ".py",
   "mimetype": "text/x-python",
   "name": "python",
   "nbconvert_exporter": "python",
   "pygments_lexer": "ipython3",
   "version": "3.12.6"
  }
 },
 "nbformat": 4,
 "nbformat_minor": 2
}
