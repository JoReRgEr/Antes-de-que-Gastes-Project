{
 "cells": [
  {
   "cell_type": "markdown",
   "metadata": {},
   "source": [
    "# *¡Antes de que gastes! Project :*\n",
    "##### La capital cubana goza de una de las tradiciones gastronómicas más grandes de todo el Caribe, no solo por su comida autóctona, sino también por la mezcla resultante de toda la inmigración que ha recibido de todas partes del mundo; sin contar, obviamente, que la propia comida criolla es fruto de la relación entre las influencias aborígenes, españolas y africanas, las primeras huellas culturales que forjaron la esencia del cubano. Ya sea de Europa, Medio Oriente, Asia y la propia América, Cuba se ha retroalimentado de todo el potencial culinario que generación tras generación se ha inculcado en su tierra y añadiendo con el pasar del tiempo nuevas cocinas, platos y estilos que la enriquecen cada vez más, esto ha creado una de las ciudades con más variedad en cuanto a restaurantes y bares se trata.\n",
    "### *INTRO*\n",
    "##### Aquí empieza la idea sobre un guión para un hipotético vídeo-reseña en donde se hablará acerca de este pequeño proyecto de análisis de datos y como se busca comprender cómo se trabaja con todos los datos recopilados sobre estos locales, cosa que obviamente a mano sería tonto. Para eso mismo, alguien anteriormente se le ocurrió la brillante idea de crear la solución para manejar y representar de manera más visual y sencilla cualquier tipo de datos de cualquier tema de la vida, y eso es: la programación... o mejor dicho las bibliotecas para programar con datos como estos. En este caso, bibliotecas que podemos usar en nuestro querido Python, el cual es extremadamente útil para estos tipos de trabajos, y porque es el único que medianamente (si es que puedo decir eso) sé usar. Sin más, estas serían las bibliotecas principales que he usado:"
   ]
  },
  {
   "cell_type": "code",
   "execution_count": null,
   "metadata": {},
   "outputs": [],
   "source": [
    "import glob\n",
    "# El salvador en cuanto a la automatización en estos trabajos se refiere. \n",
    "# Se utiliza para encontrar todos los nombres de archivos que coincidan con un patrón específico. Es útil para trabajar con múltiples archivos en un directorio.\n",
    "import json as jn\n",
    "# Que otra biblioteca mejor para trabajar con datos de este tipo que no sea json.\n",
    "import pandas as pd\n",
    "# Es una biblioteca muy poderosa para la manipulación y análisis de datos.\n",
    "# Proporciona estructuras de datos como DataFrames.\n",
    "import csv\n",
    "# Esta biblioteca se utiliza para leer y escribir archivos CSV.\n",
    "import matplotlib.pyplot as plt\n",
    "# Es una biblioteca para crear visualizaciones estáticas, animadas e interactivas en Python.\n",
    "import plotly.express as px\n",
    "# Es una biblioteca para crear visualizaciones interactivas de manera sencilla.\n",
    "import numpy as np\n",
    "# Es una biblioteca para la computación numérica en Python.\n",
    "from collections import Counter\n",
    "# Es útil para contar la frecuencia de elementos en una lista.\n",
    "import warnings\n",
    "warnings.filterwarnings(\"ignore\")\n",
    "# Esta biblioteca se utiliza para manejar advertencias en Python. \n",
    "# En este caso, se ignora todas las advertencias.\n",
    "\n",
    "from Herramientas.Biblioteca import*\n",
    "\n",
    "df = crear_data_frame() \n",
    "# Para importar los dataframes necesarios para que funcionen los codigos."
   ]
  },
  {
   "cell_type": "markdown",
   "metadata": {},
   "source": [
    "##### Pues estas serán nuestras principales herramientas a la hora de desenvolvernos en este estresante pero hermoso mundo de datos y datos y datos y datos y datos y dat... cof, cof... bueno, ya. Pero también nos va a servir para adquirir conocimientos esenciales para saber cómo se mueve el mundo, ya que sin los datos, la tecnología, la medicina, las ciencias, el ocio, en fin, TODO no sería lo que es actualmente y en especial este proyecto que nos permite explorar la gastronomía habanera; por lo cual aquí les traigo lo básico, lo bueno y lo malo de este submundo, y para que sepáis de entre todas estas opciones de locales que existen, cuáles de los más de 200 que se han investigado serían los más rentables, buenos y acogedores, o los más horribles, desbalanceados y caros. Esto es:\n",
    "\n",
    "## ¡Antes de que gastes!...\n",
    "### \"Restaurantes y Bares de La Habana\"."
   ]
  },
  {
   "cell_type": "markdown",
   "metadata": {},
   "source": [
    "# *Lo Básico*\n",
    "##### Comenzando por lo básico, creo que sería un paso importante ver, en principio, a qué nos enfrentamos: los diferentes tipos de locales que hay, afortunadamente categorizados de dos maneras: restaurantes y bares. Si me preguntan por qué no usar también la definición que tienen muchos establecimientos como \"bar-restaurante\", \"restaurante-bar\", \"bar-cafetería\", etc., la principal razón es: que al cubano le da igual. Analizando, antes de hacer este proyecto, la diferencia más remarcada entre un restaurante y bar como tales es cómo se distribuye el establecimiento para aprovechar de manera correcta sus servicios. En un bar no vas a ver la misma distribución de mesas que en un restaurante, y eso solo por poner un ejemplo sencillo, pero no estamos aquí para hablar sobre arquitectura ni interiorismo, sino sobre la oferta gastronómica de estos. En primer lugar, ¿qué cantidad de establecimientos de cada tipo hay?:"
   ]
  },
  {
   "cell_type": "code",
   "execution_count": null,
   "metadata": {},
   "outputs": [],
   "source": [
    "tipo_establecimientos = df['type_of_establishment'].value_counts().reset_index()\n",
    "tipo_establecimientos.columns = ['Tipo de Establecimiento', 'Cantidad']\n",
    "\n",
    "fig = px.pie(tipo_establecimientos, \n",
    "            values='Cantidad', \n",
    "            names='Tipo de Establecimiento', \n",
    "            title='Porcentaje de tipos de establecimientos en La Habana',\n",
    "            hole=0.1,\n",
    "            color_discrete_sequence=px.colors.sequential.Turbo)\n",
    "fig.show()"
   ]
  },
  {
   "cell_type": "markdown",
   "metadata": {},
   "source": [
    "##### Al final, viendo los resultados, remarco lo dicho sobre la etimología de llamar \"bar-restaurante\" o viceversa, porque no hay una necesidad vital de usar estos términos, ya que en esencia los locales denominados así son iguales al resto de restaurantes, los cuales vemos que son la mayoría, y si es verdad que son mayores en número que los bares \"originales\", al fin y al cabo son solo etiquetas legales para aumentar la oferta en sus recintos.\n",
    "\n",
    "##### Otro aspecto que destaca en estos locales es que a diferencia de otros países, donde hay grandes cadenas de restaurantes como *KFC*, *McDonalds* o *Burger King*, aqui tenemos los llamados locales estatales y particulares, ahora cual es la diferencia entre estos además de la conclución lógica a la que podemos llegar por sus nombres, pues en general no hay demasiada, la única cosa que se podría remarcar con claridad sería la calidad de los locales, los estatales son en su gran mayoría mucho peores en cuanto a valoración en comparación a los particulares. Por ahora vamos a hacer una comparativa en la cantidad que existen de ambos tipos:"
   ]
  },
  {
   "cell_type": "code",
   "execution_count": null,
   "metadata": {},
   "outputs": [],
   "source": [
    "property_type_counts = df['property_type'].value_counts().reset_index()\n",
    "property_type_counts.columns = ['property_type', 'count']\n",
    "\n",
    "fig = px.bar(property_type_counts, \n",
    "             x='property_type', \n",
    "             y='count', \n",
    "             title='Distribución de Tipos de Propiedad en Establecimientos',\n",
    "             labels={'property_type': 'Tipo de Propiedad', 'count': 'Cantidad'},\n",
    "             color='property_type',\n",
    "             text='count')\n",
    "\n",
    "fig.update_traces(textposition='outside')\n",
    "fig.update_layout(xaxis_title='Tipo de Propiedad', \n",
    "                  yaxis_title='Cantidad de Establecimientos',\n",
    "                  showlegend=False)\n",
    "\n",
    "fig.show()"
   ]
  },
  {
   "cell_type": "markdown",
   "metadata": {},
   "source": [
    "##### Como se puede apreciar, hay una masiva diferencia en cuanto a la cantidad de locales particulares y estatales, algo que no es de mucha sorpresa teniendo en cuenta cómo se comportan ciertos ámbitos en cuanto a la economía y políticas de Cuba. Los negocios privados han prosperado gracias al esfuerzo y la competencia sana que representa crear y hacer crecer tu negocio en un mercado saturado de este tipo de servicio, cosa que han dejado atrás los locales del gobierno, por lo cual la balanza de la calidad termina cayendo del lado del sector particular, pero sobre esto se abordará más adelante."
   ]
  },
  {
   "cell_type": "markdown",
   "metadata": {},
   "source": [
    "##### asdasd"
   ]
  },
  {
   "cell_type": "code",
   "execution_count": null,
   "metadata": {},
   "outputs": [],
   "source": [
    "import pandas as pd\n",
    "import plotly.express as px\n",
    "from datetime import datetime\n",
    "\n",
    "# Crear el DataFrame\n",
    "df = crear_data_frame()\n",
    "\n",
    "# Función para convertir la hora en minutos desde la medianoche\n",
    "def hora_a_minutos(hora):\n",
    "    if hora == \"24:00\":\n",
    "        return 1440  # 24:00 es equivalente a 1440 minutos\n",
    "    return int(hora.split(\":\")[0]) * 60 + int(hora.split(\":\")[1])\n",
    "\n",
    "# Lista de días de la semana\n",
    "dias_semana = [\"monday\", \"tuesday\", \"wednesday\", \"thursday\", \"friday\", \"saturday\", \"sunday\"]\n",
    "\n",
    "# Crear listas para almacenar los promedios de apertura y cierre\n",
    "aperturas_promedio = []\n",
    "cierres_promedio = []\n",
    "\n",
    "for dia in dias_semana:\n",
    "    # Extraer horas de apertura y cierre para el día actual\n",
    "    aperturas = df['schedules'].apply(lambda x: x[dia]['open'] if dia in x else None).dropna()\n",
    "    cierres = df['schedules'].apply(lambda x: x[dia]['closed'] if dia in x else None).dropna()\n",
    "    \n",
    "    # Convertir horas a minutos\n",
    "    aperturas_minutos = aperturas.apply(hora_a_minutos)\n",
    "    cierres_minutos = cierres.apply(hora_a_minutos)\n",
    "    \n",
    "    # Calcular promedios\n",
    "    apertura_promedio = aperturas_minutos.mean()\n",
    "    cierre_promedio = cierres_minutos.mean()\n",
    "    \n",
    "    # Guardar resultados\n",
    "    aperturas_promedio.append(apertura_promedio)\n",
    "    cierres_promedio.append(cierre_promedio)\n",
    "\n",
    "# Convertir promedios a formato HH:MM\n",
    "def minutos_a_hora(minutos):\n",
    "    return f\"{int(minutos // 60):02d}:{int(minutos % 60):02d}\"\n",
    "\n",
    "aperturas_promedio_hora = [minutos_a_hora(minutos) for minutos in aperturas_promedio]\n",
    "cierres_promedio_hora = [minutos_a_hora(minutos) for minutos in cierres_promedio]\n",
    "\n",
    "# Crear un DataFrame con los resultados\n",
    "horarios_promedio_df = pd.DataFrame({\n",
    "    'dia': [dia.capitalize() for dia in dias_semana],\n",
    "    'apertura_promedio': aperturas_promedio_hora,\n",
    "    'cierre_promedio': cierres_promedio_hora\n",
    "})\n",
    "\n",
    "# Mostrar resultados\n",
    "print(horarios_promedio_df)\n",
    "\n",
    "# Contar cuántos establecimientos tienen cada tipo de horario promedio\n",
    "# Agrupar los horarios en categorías\n",
    "def categorizar_horario(hora):\n",
    "    if hora < 360:  # Antes de las 6:00 AM\n",
    "        return \"Muy temprano (antes de 6:00 AM)\"\n",
    "    elif 360 <= hora < 720:  # Entre 6:00 AM y 12:00 PM\n",
    "        return \"Mañana (6:00 AM - 12:00 PM)\"\n",
    "    elif 720 <= hora < 1080:  # Entre 12:00 PM y 6:00 PM\n",
    "        return \"Tarde (12:00 PM - 6:00 PM)\"\n",
    "    else:  # Después de las 6:00 PM\n",
    "        return \"Noche (después de 6:00 PM)\"\n",
    "\n",
    "\n",
    "# Aplicar la categorización a los horarios de apertura y cierre\n",
    "aperturas_categorizadas = [categorizar_horario(minutos) for minutos in aperturas_promedio]\n",
    "cierres_categorizadas = [categorizar_horario(minutos) for minutos in cierres_promedio]\n",
    "\n",
    "# Contar la frecuencia de cada categoría\n",
    "aperturas_count = pd.Series(aperturas_categorizadas).value_counts().reset_index()\n",
    "aperturas_count.columns = ['categoria', 'count']\n",
    "\n",
    "cierres_count = pd.Series(cierres_categorizadas).value_counts().reset_index()\n",
    "cierres_count.columns = ['categoria', 'count']\n",
    "\n",
    "# Crear gráficos de funnel para apertura y cierre\n",
    "fig_apertura = px.funnel(aperturas_count, \n",
    "                         x='count', \n",
    "                         y='categoria', \n",
    "                         title='Distribución de Horarios Promedio de Apertura',\n",
    "                         labels={'count': 'Cantidad de Establecimientos', 'categoria': 'Categoría de Horario'})\n",
    "\n",
    "fig_cierre = px.funnel(cierres_count, \n",
    "                       x='count', \n",
    "                       y='categoria', \n",
    "                       title='Distribución de Horarios Promedio de Cierre',\n",
    "                       labels={'count': 'Cantidad de Establecimientos', 'categoria': 'Categoría de Horario'})\n",
    "\n",
    "# Mostrar los gráficos\n",
    "fig_apertura.show()\n",
    "fig_cierre.show()"
   ]
  }
 ],
 "metadata": {
  "kernelspec": {
   "display_name": "Python 3",
   "language": "python",
   "name": "python3"
  },
  "language_info": {
   "codemirror_mode": {
    "name": "ipython",
    "version": 3
   },
   "file_extension": ".py",
   "mimetype": "text/x-python",
   "name": "python",
   "nbconvert_exporter": "python",
   "pygments_lexer": "ipython3",
   "version": "3.12.6"
  }
 },
 "nbformat": 4,
 "nbformat_minor": 2
}
