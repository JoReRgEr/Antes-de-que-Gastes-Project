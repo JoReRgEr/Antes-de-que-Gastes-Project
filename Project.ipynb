{
 "cells": [
  {
   "cell_type": "markdown",
   "metadata": {},
   "source": [
    "# *¡Antes de que gastes! Project :*\n",
    "##### La capital cubana goza de una de las tradiciones gastronómicas más grandes de todo el Caribe, no solo por su comida autóctona, sino también por la mezcla resultante de toda la inmigración que ha recibido de todas partes del mundo; sin contar, obviamente, que la propia comida criolla es fruto de la relación entre las influencias aborígenes, españolas y africanas, las primeras huellas culturales que forjaron la esencia del cubano. Ya sea de Europa, Medio Oriente, Asia y la propia América, Cuba se ha retroalimentado de todo el potencial culinario que generación tras generación se ha inculcado en su tierra y añadiendo con el pasar del tiempo nuevas cocinas, platos y estilos que la enriquecen cada vez más, esto ha creado una de las ciudades con más variedad en cuanto a restaurantes y bares se trata.\n",
    "### *INTRO*\n",
    "##### Aquí empieza la idea sobre un guión para un hipotético vídeo-reseña en donde se hablará acerca de este pequeño proyecto de análisis de datos y como se busca comprender cómo se trabaja con todos los datos recopilados sobre estos locales, cosa que obviamente a mano sería tonto. Para eso mismo, alguien anteriormente se le ocurrió la brillante idea de crear la solución para manejar y representar de manera más visual y sencilla cualquier tipo de datos de cualquier tema de la vida, y eso es: la programación... o mejor dicho las bibliotecas para programar con datos como estos. En este caso, bibliotecas que podemos usar en nuestro querido Python, el cual es extremadamente útil para estos tipos de trabajos, y porque es el único que medianamente (si es que puedo decir eso) sé usar. Sin más, estas serían las bibliotecas principales que he usado:"
   ]
  },
  {
   "cell_type": "code",
   "execution_count": null,
   "metadata": {},
   "outputs": [],
   "source": [
    "import glob\n",
    "# El salvador en cuanto a la automatización en estos trabajos se refiere. \n",
    "# Se utiliza para encontrar todos los nombres de archivos que coincidan con un patrón específico. Es útil para trabajar con múltiples archivos en un directorio.\n",
    "import json as jn\n",
    "# Que otra biblioteca mejor para trabajar con datos de este tipo que no sea json.\n",
    "import pandas as pd\n",
    "# Es una biblioteca muy poderosa para la manipulación y análisis de datos.\n",
    "# Proporciona estructuras de datos como DataFrames.\n",
    "import csv\n",
    "# Esta biblioteca se utiliza para leer y escribir archivos CSV.\n",
    "import matplotlib.pyplot as plt\n",
    "# Es una biblioteca para crear visualizaciones estáticas, animadas e interactivas en Python.\n",
    "import plotly.express as px\n",
    "# Es una biblioteca para crear visualizaciones interactivas de manera sencilla.\n",
    "import numpy as np\n",
    "# Es una biblioteca para la computación numérica en Python.\n",
    "from collections import Counter\n",
    "# Es útil para contar la frecuencia de elementos en una lista.\n",
    "import warnings\n",
    "warnings.filterwarnings(\"ignore\")\n",
    "# Esta biblioteca se utiliza para manejar advertencias en Python. \n",
    "# En este caso, se ignora todas las advertencias.\n",
    "\n",
    "from Herramientas.Biblioteca import*\n",
    "\n",
    "df = crear_data_frame() \n",
    "# Para importar los dataframes necesarios para que funcionen los codigos."
   ]
  },
  {
   "cell_type": "markdown",
   "metadata": {},
   "source": [
    "##### Pues estas serán nuestras principales herramientas a la hora de desenvolvernos en este estresante pero hermoso mundo de datos y datos y datos y datos y datos y dat... cof, cof... bueno, ya. Pero también nos va a servir para adquirir conocimientos esenciales para saber cómo se mueve el mundo, ya que sin los datos, la tecnología, la medicina, las ciencias, el ocio, en fin, TODO no sería lo que es actualmente y en especial este proyecto que nos permite explorar la gastronomía habanera; por lo cual aquí les traigo lo básico, lo bueno y lo malo de este submundo, y para que sepáis de entre todas estas opciones de locales que existen, cuáles de los más de 200 que se han investigado serían los más rentables, buenos y acogedores, o los más horribles, desbalanceados y caros. Esto es:\n",
    "\n",
    "## ¡Antes de que gastes!...\n",
    "### \"Restaurantes y Bares de La Habana\"."
   ]
  },
  {
   "cell_type": "markdown",
   "metadata": {},
   "source": [
    "# *Lo Básico*\n",
    "##### Comenzando por lo básico, creo que sería un paso importante ver, en principio, a qué nos enfrentamos: los diferentes tipos de locales que hay, afortunadamente categorizados de dos maneras: restaurantes y bares. Si me preguntan por qué no usar también la definición que tienen muchos establecimientos como \"bar-restaurante\", \"restaurante-bar\", \"bar-cafetería\", etc., la principal razón es: que al cubano le da igual. Analizando, antes de hacer este proyecto, la diferencia más remarcada entre un restaurante y bar como tales es cómo se distribuye el establecimiento para aprovechar de manera correcta sus servicios. En un bar no vas a ver la misma distribución de mesas que en un restaurante, y eso solo por poner un ejemplo sencillo, pero no estamos aquí para hablar sobre arquitectura ni interiorismo, sino sobre la oferta gastronómica de estos. En primer lugar, ¿qué cantidad de establecimientos de cada tipo hay?:"
   ]
  },
  {
   "cell_type": "code",
   "execution_count": null,
   "metadata": {},
   "outputs": [],
   "source": [
    "tipo_establecimientos = df['type_of_establishment'].value_counts().reset_index()\n",
    "tipo_establecimientos.columns = ['Tipo de Establecimiento', 'Cantidad']\n",
    "\n",
    "fig = px.pie(tipo_establecimientos, \n",
    "            values='Cantidad', \n",
    "            names='Tipo de Establecimiento', \n",
    "            title='Porcentaje de tipos de establecimientos en La Habana',\n",
    "            hole=0.1,\n",
    "            color_discrete_sequence=px.colors.sequential.Turbo)\n",
    "fig.show()"
   ]
  },
  {
   "cell_type": "markdown",
   "metadata": {},
   "source": [
    "##### Al final, viendo los resultados, remarco lo dicho sobre la etimología de llamar \"bar-restaurante\" o viceversa, porque no hay una necesidad vital de usar estos términos, ya que en esencia los locales denominados así son iguales al resto de restaurantes, los cuales vemos que son la mayoría, y si es verdad que son mayores en número que los bares \"originales\", al fin y al cabo son solo etiquetas legales para aumentar la oferta en sus recintos.\n",
    "\n",
    "##### Otro aspecto que destaca en estos locales es que a diferencia de otros países, donde hay grandes cadenas de restaurantes como *KFC*, *McDonalds* o *Burger King*, aqui tenemos los llamados locales estatales y particulares, ahora cual es la diferencia entre estos además de la conclución lógica a la que podemos llegar por sus nombres, pues en general no hay demasiada, la única cosa que se podría remarcar con claridad sería la calidad de los locales, los estatales son en su gran mayoría mucho peores en cuanto a valoración en comparación a los particulares. Por ahora vamos a hacer una comparativa en la cantidad que existen de ambos tipos:"
   ]
  },
  {
   "cell_type": "code",
   "execution_count": null,
   "metadata": {},
   "outputs": [],
   "source": [
    "property_type_counts = df['property_type'].value_counts().reset_index()\n",
    "property_type_counts.columns = ['property_type', 'count']\n",
    "\n",
    "fig = px.bar(property_type_counts, \n",
    "             x='property_type', \n",
    "             y='count', \n",
    "             title='Distribución de Tipos de Propiedad en Establecimientos',\n",
    "             labels={'property_type': 'Tipo de Propiedad', 'count': 'Cantidad'},\n",
    "             color='property_type',\n",
    "             text='count')\n",
    "\n",
    "fig.update_traces(textposition='outside')\n",
    "fig.update_layout(xaxis_title='Tipo de Propiedad', \n",
    "                  yaxis_title='Cantidad de Establecimientos',\n",
    "                  showlegend=False)\n",
    "\n",
    "fig.show()"
   ]
  },
  {
   "cell_type": "markdown",
   "metadata": {},
   "source": [
    "##### Como se puede apreciar, hay una masiva diferencia en cuanto a la cantidad de locales particulares y estatales, algo que no es de mucha sorpresa teniendo en cuenta cómo se comportan ciertos ámbitos en cuanto a la economía y políticas de Cuba. Los negocios privados han prosperado gracias al esfuerzo y la competencia sana que representa crear y hacer crecer tu negocio en un mercado saturado de este tipo de servicio, cosa que han dejado atrás los locales del gobierno, por lo cual la balanza de la calidad termina cayendo del lado del sector particular, pero sobre esto se abordará más adelante."
   ]
  },
  {
   "cell_type": "markdown",
   "metadata": {},
   "source": [
    "##### El tamaño de los locales es una cuestión a tener en cuenta siempre antes de hacer una salida, puede que el local sea el mejor valorado del municipio o el que mejor haga cierto plato, pero si tiene una capacidad reducida no merecería la pena estar esperando 2 horas para poder entrar en el, vamos a ver entonces como se distribuye la capacidad de estos locales:"
   ]
  },
  {
   "cell_type": "code",
   "execution_count": null,
   "metadata": {},
   "outputs": [],
   "source": [
    "import pandas as pd\n",
    "import plotly.express as px\n",
    "\n",
    "# Llamar a la función para obtener el DataFrame\n",
    "df = crear_data_frame()\n",
    "\n",
    "# Verificar que la columna 'establishment_capacity' y 'address.district' existan\n",
    "if 'location_details' in df.columns and 'address' in df.columns:\n",
    "    # Extraer la capacidad y el municipio de cada local\n",
    "    df['capacity'] = df['location_details'].apply(lambda x: x.get('establishment_capacity', 'Desconocido'))\n",
    "    df['municipio'] = df['address'].apply(lambda x: x.get('district', 'Desconocido'))\n",
    "\n",
    "    # Crear un histograma con plotly.express\n",
    "    fig = px.histogram(df, \n",
    "                       x='municipio', \n",
    "                       color='capacity', \n",
    "                       title='Distribución de la Capacidad de los Locales por Municipio',\n",
    "                       labels={'municipio': 'Municipio', 'capacity': 'Capacidad', 'count': 'Cantidad de Locales'},\n",
    "                       barmode='group')  # Agrupar las barras por capacidad\n",
    "\n",
    "    # Personalizar el gráfico\n",
    "    fig.update_layout(xaxis_title='Municipio', \n",
    "                      yaxis_title='Cantidad de Locales',\n",
    "                      legend_title='Capacidad',\n",
    "                      xaxis={'categoryorder': 'total descending'})  # Ordenar municipios por cantidad total\n",
    "\n",
    "    # Mostrar el gráfico\n",
    "    fig.show()\n",
    "else:\n",
    "    print(\"Las columnas 'location_details' o 'address' no existen en el DataFrame.\")"
   ]
  },
  {
   "cell_type": "markdown",
   "metadata": {},
   "source": [
    "##### En cuanto a este tema aquí esta un TOP-5 de los mejores restaurantes en dependencia de su capacidad:"
   ]
  },
  {
   "cell_type": "code",
   "execution_count": null,
   "metadata": {},
   "outputs": [],
   "source": [
    "# Crear un gráfico de barras horizontales con matplotlib\n",
    "plt.figure(figsize=(10, 8))  # Tamaño del gráfico\n",
    "\n",
    "# Colores para cada capacidad\n",
    "colores = {\"grande\": \"skyblue\", \"media\": \"lightgreen\", \"chica\": \"salmon\"}\n",
    "\n",
    "# Iterar sobre cada capacidad y graficar\n",
    "for i, capacidad in enumerate([\"grande\", \"media\", \"chica\"]):\n",
    "    df_capacidad = top_5_df[top_5_df[\"capacidad\"] == capacidad]\n",
    "    plt.barh(df_capacidad[\"place_name\"], df_capacidad[\"puntuacion_valida\"], color=colores[capacidad], label=capacidad)\n",
    "\n",
    "# Personalizar el gráfico\n",
    "plt.title(\"Top-5 Mejores Restaurantes por Capacidad\", fontsize=16)\n",
    "plt.xlabel(\"Puntuación Valida\", fontsize=12)\n",
    "plt.ylabel(\"Nombre del Local\", fontsize=12)\n",
    "plt.legend(title=\"Capacidad\", bbox_to_anchor=(1.05, 1), loc=\"upper left\")  # Leyenda fuera del gráfico\n",
    "plt.grid(axis=\"x\", linestyle=\"--\", alpha=0.7)  # Líneas de cuadrícula en el eje x\n",
    "plt.tight_layout()  # Ajustar el layout para que no se corten las etiquetas\n",
    "\n",
    "# Mostrar el gráfico\n",
    "plt.show()"
   ]
  },
  {
   "cell_type": "markdown",
   "metadata": {},
   "source": [
    "##### Debido obviamente a la variedad cultural mucho antes mencionada es normal que cada restaurante tenga raíces diferentes y que cada dueño o dueña decida decorar su establecimiento de diversas maneras, en La Habana se suelen encontrar muchos tipo diferentes de decoraciones, vamos a ver a continuación y cuales son los mejores locales con su respectivo estilo:"
   ]
  },
  {
   "cell_type": "code",
   "execution_count": null,
   "metadata": {},
   "outputs": [],
   "source": [
    "# Crear un treemap con plotly.express\n",
    "fig = px.treemap(decoracion_count, \n",
    "                 path=['decoracion'],  # Categoría a visualizar\n",
    "                 values='count',       # Tamaño de cada categoría\n",
    "                 title='Distribución de Tipos de Decoración en los Locales',\n",
    "                 color='count',        # Colorear por la cantidad\n",
    "                 color_continuous_scale='Blues')  # Escala de colores\n",
    "\n",
    "# Personalizar el gráfico\n",
    "fig.update_traces(textinfo=\"label+value\",  # Mostrar etiqueta y valor en cada bloque\n",
    "                  hovertemplate='<b>%{label}</b><br>Cantidad: %{value}')\n",
    "\n",
    "# Mostrar el gráfico\n",
    "fig.show()"
   ]
  }
 ],
 "metadata": {
  "kernelspec": {
   "display_name": "Python 3",
   "language": "python",
   "name": "python3"
  },
  "language_info": {
   "codemirror_mode": {
    "name": "ipython",
    "version": 3
   },
   "file_extension": ".py",
   "mimetype": "text/x-python",
   "name": "python",
   "nbconvert_exporter": "python",
   "pygments_lexer": "ipython3",
   "version": "3.12.6"
  }
 },
 "nbformat": 4,
 "nbformat_minor": 2
}
