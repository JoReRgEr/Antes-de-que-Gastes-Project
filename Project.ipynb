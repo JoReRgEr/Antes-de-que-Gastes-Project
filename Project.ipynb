{
 "cells": [
  {
   "cell_type": "markdown",
   "metadata": {},
   "source": [
    "#### Inicialmente importamos los módulos necesarios para poder trabajar con la base de datos de los json´s de cada restaurante"
   ]
  },
  {
   "cell_type": "code",
   "execution_count": 1,
   "metadata": {},
   "outputs": [],
   "source": [
    "import json as jn\n",
    "import pandas as pd\n",
    "import os"
   ]
  },
  {
   "cell_type": "code",
   "execution_count": 2,
   "metadata": {},
   "outputs": [
    {
     "name": "stderr",
     "output_type": "stream",
     "text": [
      "<>:1: SyntaxWarning: invalid escape sequence '\\!'\n",
      "<>:1: SyntaxWarning: invalid escape sequence '\\!'\n",
      "C:\\Users\\jorge\\AppData\\Local\\Temp\\ipykernel_10552\\2062037831.py:1: SyntaxWarning: invalid escape sequence '\\!'\n",
      "  file = \"D:\\!!! PROGRAMACION\\Project Restaurants and Bars\\Project-Restaurants-and-Bars\\structure-demo.json\"\n"
     ]
    }
   ],
   "source": [
    "file = \"D:\\!!! PROGRAMACION\\Project Restaurants and Bars\\Project-Restaurants-and-Bars\\structure-demo.json\"\n",
    "with open(file) as f:\n",
    "    data = jn.load(f)\n"
   ]
  },
  {
   "cell_type": "code",
   "execution_count": 3,
   "metadata": {},
   "outputs": [
    {
     "name": "stdout",
     "output_type": "stream",
     "text": [
      "Tipo de variable para: type_of_establishment *  <class 'str'>\n",
      "\n",
      "Tipo de variable para: name *  <class 'str'>\n",
      "\n",
      "Tipo de variable para: address *  <class 'dict'>\n",
      "{'city': '', 'district': '', 'streets': '', 'landmarks': '', 'coordinates': ''}\n",
      "Tipo de variable para: schedules *  <class 'dict'>\n",
      "{'monday': [], 'tuesday': [], 'wednesday': [], 'thursday': [], 'friday': [], 'saturday': [], 'sunday': []}\n",
      "Tipo de variable para: antique *  <class 'str'>\n",
      "\n",
      "Tipo de variable para: rating *  <class 'str'>\n",
      "\n",
      "Tipo de variable para: intake_capacity *  <class 'str'>\n",
      "\n",
      "Tipo de variable para: decoration *  <class 'str'>\n",
      "\n",
      "Tipo de variable para: kind_of_food *  <class 'str'>\n",
      "\n",
      "Tipo de variable para: menu *  <class 'str'>\n",
      "\n",
      "Tipo de variable para: services *  <class 'dict'>\n",
      "{'web_page': '', 'child_care': '', 'disable_support': '', 'wifi': '', 'parking': '', 'delivery': '', 'reserves': '', 'rent_for_events': '', 'takeaway': '', 'vip_zone': '', 'catering': '', 'interactive_act': ''}\n",
      "Tipo de variable para: pay_meth *  <class 'dict'>\n",
      "{'cash': '', 'transfer': [{'transfermovil': '', 'enzona': '', 'bancaremota': ''}]}\n",
      "Tipo de variable para: currency *  <class 'dict'>\n",
      "{'cup': '', 'usd': '', 'euro': '', 'mlc': '', 'others': ''}\n",
      "Tipo de variable para: dresscode *  <class 'str'>\n",
      "\n",
      "Tipo de variable para: social_media_act *  <class 'str'>\n",
      "\n",
      "Tipo de variable para: events *  <class 'str'>\n",
      "\n",
      "Tipo de variable para: customer_age *  <class 'str'>\n",
      "\n",
      "Tipo de variable para: technology *  <class 'str'>\n",
      "\n"
     ]
    }
   ],
   "source": [
    "for key, value in data.items():\n",
    "    print(\"Tipo de variable para:\", key,\"* \",type(data[key]))\n",
    "    print(value)"
   ]
  }
 ],
 "metadata": {
  "kernelspec": {
   "display_name": "Python 3",
   "language": "python",
   "name": "python3"
  },
  "language_info": {
   "codemirror_mode": {
    "name": "ipython",
    "version": 3
   },
   "file_extension": ".py",
   "mimetype": "text/x-python",
   "name": "python",
   "nbconvert_exporter": "python",
   "pygments_lexer": "ipython3",
   "version": "3.12.6"
  }
 },
 "nbformat": 4,
 "nbformat_minor": 2
}
